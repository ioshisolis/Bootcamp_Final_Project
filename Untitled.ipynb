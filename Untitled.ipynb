{
 "cells": [
  {
   "cell_type": "code",
   "execution_count": 3,
   "id": "49de1562",
   "metadata": {},
   "outputs": [],
   "source": [
    "# Initial imports\n",
    "import pandas as pd\n",
    "import hvplot.pandas\n",
    "from path import Path\n",
    "from sklearn.preprocessing import StandardScaler, MinMaxScaler\n",
    "from sklearn.decomposition import PCA\n",
    "from sklearn.cluster import KMeans\n",
    "from sqlalchemy import create_engine\n",
    "import nltk\n",
    "from nltk import word_tokenize\n",
    "from textblob import TextBlob"
   ]
  },
  {
   "cell_type": "code",
   "execution_count": 4,
   "id": "61bf237a",
   "metadata": {},
   "outputs": [
    {
     "data": {
      "text/html": [
       "<div>\n",
       "<style scoped>\n",
       "    .dataframe tbody tr th:only-of-type {\n",
       "        vertical-align: middle;\n",
       "    }\n",
       "\n",
       "    .dataframe tbody tr th {\n",
       "        vertical-align: top;\n",
       "    }\n",
       "\n",
       "    .dataframe thead th {\n",
       "        text-align: right;\n",
       "    }\n",
       "</style>\n",
       "<table border=\"1\" class=\"dataframe\">\n",
       "  <thead>\n",
       "    <tr style=\"text-align: right;\">\n",
       "      <th></th>\n",
       "      <th>Unnamed: 0</th>\n",
       "      <th>User</th>\n",
       "      <th>Followers</th>\n",
       "      <th>user_id</th>\n",
       "      <th>Tweet</th>\n",
       "      <th>Retweet_Count</th>\n",
       "      <th>Location</th>\n",
       "      <th>Verified_Account</th>\n",
       "      <th>Retweet</th>\n",
       "    </tr>\n",
       "  </thead>\n",
       "  <tbody>\n",
       "    <tr>\n",
       "      <th>0</th>\n",
       "      <td>0</td>\n",
       "      <td>zuum_zaam</td>\n",
       "      <td>168</td>\n",
       "      <td>39347666</td>\n",
       "      <td>RT @Alebadilloc: Me dan risa, referente a lo q...</td>\n",
       "      <td>1054</td>\n",
       "      <td>Ciudad de México</td>\n",
       "      <td>False</td>\n",
       "      <td>0</td>\n",
       "    </tr>\n",
       "    <tr>\n",
       "      <th>1</th>\n",
       "      <td>1</td>\n",
       "      <td>Herek_Tor</td>\n",
       "      <td>563</td>\n",
       "      <td>161593395</td>\n",
       "      <td>RT @Pajaropolitico: A través de una carta, acc...</td>\n",
       "      <td>541</td>\n",
       "      <td>México</td>\n",
       "      <td>False</td>\n",
       "      <td>0</td>\n",
       "    </tr>\n",
       "    <tr>\n",
       "      <th>2</th>\n",
       "      <td>2</td>\n",
       "      <td>ANGELENRIKE</td>\n",
       "      <td>158</td>\n",
       "      <td>102451054</td>\n",
       "      <td>RT @JucaNoticias: Les está doliendo muchísimo ...</td>\n",
       "      <td>179</td>\n",
       "      <td>Tabasco, México</td>\n",
       "      <td>False</td>\n",
       "      <td>0</td>\n",
       "    </tr>\n",
       "    <tr>\n",
       "      <th>3</th>\n",
       "      <td>3</td>\n",
       "      <td>YO_____MERO</td>\n",
       "      <td>3951</td>\n",
       "      <td>113728420</td>\n",
       "      <td>RT @HectorRossete: Perdón @AntonioAttolini si ...</td>\n",
       "      <td>236</td>\n",
       "      <td>México DFectuoso</td>\n",
       "      <td>False</td>\n",
       "      <td>0</td>\n",
       "    </tr>\n",
       "    <tr>\n",
       "      <th>4</th>\n",
       "      <td>4</td>\n",
       "      <td>nectarsuarez</td>\n",
       "      <td>117</td>\n",
       "      <td>1664475157</td>\n",
       "      <td>RT @AristeguiOnline: Loret de Mola responde a ...</td>\n",
       "      <td>2528</td>\n",
       "      <td>Cancún México.</td>\n",
       "      <td>False</td>\n",
       "      <td>0</td>\n",
       "    </tr>\n",
       "  </tbody>\n",
       "</table>\n",
       "</div>"
      ],
      "text/plain": [
       "   Unnamed: 0          User  Followers     user_id  \\\n",
       "0           0     zuum_zaam        168    39347666   \n",
       "1           1     Herek_Tor        563   161593395   \n",
       "2           2   ANGELENRIKE        158   102451054   \n",
       "3           3   YO_____MERO       3951   113728420   \n",
       "4           4  nectarsuarez        117  1664475157   \n",
       "\n",
       "                                               Tweet  Retweet_Count  \\\n",
       "0  RT @Alebadilloc: Me dan risa, referente a lo q...           1054   \n",
       "1  RT @Pajaropolitico: A través de una carta, acc...            541   \n",
       "2  RT @JucaNoticias: Les está doliendo muchísimo ...            179   \n",
       "3  RT @HectorRossete: Perdón @AntonioAttolini si ...            236   \n",
       "4  RT @AristeguiOnline: Loret de Mola responde a ...           2528   \n",
       "\n",
       "            Location  Verified_Account  Retweet  \n",
       "0  Ciudad de México              False        0  \n",
       "1             México             False        0  \n",
       "2    Tabasco, México             False        0  \n",
       "3   México DFectuoso             False        0  \n",
       "4     Cancún México.             False        0  "
      ]
     },
     "execution_count": 4,
     "metadata": {},
     "output_type": "execute_result"
    }
   ],
   "source": [
    "#Open the file\n",
    "data_path=\"Data/Twitter_data.csv\"\n",
    "df=pd.read_csv(data_path)\n",
    "df.head()"
   ]
  },
  {
   "cell_type": "code",
   "execution_count": 5,
   "id": "5173e284",
   "metadata": {},
   "outputs": [],
   "source": [
    "#drop unnecesary columns\n",
    "df.drop(columns=[\"Unnamed: 0\"], inplace=True)"
   ]
  },
  {
   "cell_type": "code",
   "execution_count": 10,
   "id": "4abe752c",
   "metadata": {},
   "outputs": [
    {
     "data": {
      "text/plain": [
       "[('RT', 'NNP'),\n",
       " ('@', 'JJ'),\n",
       " ('Alebadilloc', 'NNP'),\n",
       " ('Me', 'NNP'),\n",
       " ('dan', 'NN'),\n",
       " ('risa', 'NN'),\n",
       " ('referente', 'VB'),\n",
       " ('a', 'DT'),\n",
       " ('lo', 'NN'),\n",
       " ('que', 'NN'),\n",
       " ('pasó', 'NN'),\n",
       " ('con', 'NN'),\n",
       " ('AMLO', 'NNP'),\n",
       " ('en', 'VBZ'),\n",
       " ('la', 'FW'),\n",
       " ('mañana', 'FW'),\n",
       " ('los', 'FW'),\n",
       " ('que', 'JJ'),\n",
       " ('nos', 'NNS'),\n",
       " ('advierten', 'VBP'),\n",
       " ('con', 'JJ'),\n",
       " ('pánico', 'NN'),\n",
       " ('Hoy', 'NNP'),\n",
       " ('fue', 'NN'),\n",
       " ('Loret', 'NNP'),\n",
       " ('mañana', 'NN'),\n",
       " ('puede…', 'NN')]"
      ]
     },
     "execution_count": 10,
     "metadata": {},
     "output_type": "execute_result"
    }
   ],
   "source": [
    "#Check TextBlob library works\n",
    "tweet=df[\"Tweet\"][0]\n",
    "tweetblob=TextBlob(tweet)\n",
    "tweetblob.tags"
   ]
  },
  {
   "cell_type": "code",
   "execution_count": 11,
   "id": "de9e6d01",
   "metadata": {},
   "outputs": [
    {
     "data": {
      "text/plain": [
       "Sentiment(polarity=0.0, subjectivity=0.0)"
      ]
     },
     "execution_count": 11,
     "metadata": {},
     "output_type": "execute_result"
    }
   ],
   "source": [
    "#Sentiment analysis\n",
    "tweetblob.sentiment"
   ]
  },
  {
   "cell_type": "code",
   "execution_count": 14,
   "id": "80f2e3fb",
   "metadata": {},
   "outputs": [
    {
     "data": {
      "text/plain": [
       "WordList(['RT', 'Alebadilloc', 'Me', 'dan', 'risa', 'referente', 'a', 'lo', 'que', 'pasó', 'con', 'AMLO', 'en', 'la', 'mañana', 'los', 'que', 'nos', 'advierten', 'con', 'pánico', 'Hoy', 'fue', 'Loret', 'mañana', 'puede…'])"
      ]
     },
     "execution_count": 14,
     "metadata": {},
     "output_type": "execute_result"
    }
   ],
   "source": [
    "#Put into sentences\n",
    "tweetblob.words"
   ]
  },
  {
   "cell_type": "code",
   "execution_count": 15,
   "id": "b43422f4",
   "metadata": {},
   "outputs": [
    {
     "data": {
      "text/plain": [
       "['RT',\n",
       " '@',\n",
       " 'Alebadilloc',\n",
       " ':',\n",
       " 'Me',\n",
       " 'dan',\n",
       " 'risa',\n",
       " ',',\n",
       " 'referente',\n",
       " 'a',\n",
       " 'lo',\n",
       " 'que',\n",
       " 'pasó',\n",
       " 'con',\n",
       " 'AMLO',\n",
       " 'en',\n",
       " 'la',\n",
       " 'mañana',\n",
       " ',',\n",
       " 'los',\n",
       " 'que',\n",
       " 'nos',\n",
       " 'advierten',\n",
       " 'con',\n",
       " 'pánico',\n",
       " ':',\n",
       " '``',\n",
       " 'Hoy',\n",
       " 'fue',\n",
       " 'Loret',\n",
       " ',',\n",
       " 'mañana',\n",
       " 'puede…']"
      ]
     },
     "execution_count": 15,
     "metadata": {},
     "output_type": "execute_result"
    }
   ],
   "source": [
    "#using NLTK\n",
    "nltk_tweet=nltk.word_tokenize(tweet)\n",
    "nltk_tweet"
   ]
  },
  {
   "cell_type": "code",
   "execution_count": 17,
   "id": "3803ae5c",
   "metadata": {},
   "outputs": [
    {
     "data": {
      "text/plain": [
       "[('RT', 'NNP'),\n",
       " ('@', 'JJ'),\n",
       " ('Alebadilloc', 'NNP'),\n",
       " (':', ':'),\n",
       " ('Me', 'NNP'),\n",
       " ('dan', 'NN'),\n",
       " ('risa', 'NN'),\n",
       " (',', ','),\n",
       " ('referente', 'VB'),\n",
       " ('a', 'DT'),\n",
       " ('lo', 'NN'),\n",
       " ('que', 'NN'),\n",
       " ('pasó', 'NN'),\n",
       " ('con', 'NN'),\n",
       " ('AMLO', 'NNP'),\n",
       " ('en', 'VBZ'),\n",
       " ('la', 'FW'),\n",
       " ('mañana', 'FW'),\n",
       " (',', ','),\n",
       " ('los', 'FW'),\n",
       " ('que', 'JJ'),\n",
       " ('nos', 'NNS'),\n",
       " ('advierten', 'VBP'),\n",
       " ('con', 'JJ'),\n",
       " ('pánico', 'NN'),\n",
       " (':', ':'),\n",
       " ('``', '``'),\n",
       " ('Hoy', 'NNP'),\n",
       " ('fue', 'NN'),\n",
       " ('Loret', 'NNP'),\n",
       " (',', ','),\n",
       " ('mañana', 'NN'),\n",
       " ('puede…', 'NN')]"
      ]
     },
     "execution_count": 17,
     "metadata": {},
     "output_type": "execute_result"
    }
   ],
   "source": [
    "output=nltk.pos_tag(nltk_tweet)\n",
    "output"
   ]
  },
  {
   "cell_type": "code",
   "execution_count": null,
   "id": "baec0f1f",
   "metadata": {},
   "outputs": [],
   "source": []
  }
 ],
 "metadata": {
  "kernelspec": {
   "display_name": "Python (mlenv)",
   "language": "python",
   "name": "mlenv"
  },
  "language_info": {
   "codemirror_mode": {
    "name": "ipython",
    "version": 3
   },
   "file_extension": ".py",
   "mimetype": "text/x-python",
   "name": "python",
   "nbconvert_exporter": "python",
   "pygments_lexer": "ipython3",
   "version": "3.7.11"
  }
 },
 "nbformat": 4,
 "nbformat_minor": 5
}
