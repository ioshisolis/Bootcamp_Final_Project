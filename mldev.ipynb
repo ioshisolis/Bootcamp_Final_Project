{
 "cells": [
  {
   "cell_type": "markdown",
   "id": "c340df3f",
   "metadata": {},
   "source": [
    "Machine Learning development:\n",
    "\n",
    "An unsupervised model that will classify tweets based on their sentiment."
   ]
  },
  {
   "cell_type": "code",
   "execution_count": null,
   "id": "04b0952b",
   "metadata": {},
   "outputs": [],
   "source": [
    "import pandas as pd\n",
    "import numpy as np\n",
    "import mrjob\n",
    "import streamlit as st"
   ]
  }
 ],
 "metadata": {
  "kernelspec": {
   "display_name": "Python (mlenv)",
   "language": "python",
   "name": "mlenv"
  },
  "language_info": {
   "codemirror_mode": {
    "name": "ipython",
    "version": 3
   },
   "file_extension": ".py",
   "mimetype": "text/x-python",
   "name": "python",
   "nbconvert_exporter": "python",
   "pygments_lexer": "ipython3",
   "version": "3.7.11"
  }
 },
 "nbformat": 4,
 "nbformat_minor": 5
}
